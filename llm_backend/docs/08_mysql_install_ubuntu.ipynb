{
 "cells": [
  {
   "cell_type": "markdown",
   "id": "f23261aa",
   "metadata": {},
   "source": [
    "# <center>Deepseek企业级Agent项目开发实战</center>"
   ]
  },
  {
   "cell_type": "markdown",
   "id": "dfcddb95",
   "metadata": {},
   "source": [
    "## <center>Part 8. Ubuntu 环境下安装 MySQL</center>"
   ]
  },
  {
   "cell_type": "markdown",
   "id": "d95c2cb0-b282-4bd9-8d2d-61cf0b546865",
   "metadata": {},
   "source": [
    "&emsp;&emsp;首先更新apt-get工具，执行命令如下：\n",
    "\n",
    "```basah\n",
    "    apt-get upgrade\n",
    "```"
   ]
  },
  {
   "cell_type": "markdown",
   "id": "cceee12c-4430-4ad4-ad6f-12a837d6fe2a",
   "metadata": {
    "editable": true,
    "slideshow": {
     "slide_type": ""
    },
    "tags": []
   },
   "source": [
    "<div align=center><img src=\"https://muyu001.oss-cn-beijing.aliyuncs.com/img/image-20240604104800254.png\" width=100%></div>"
   ]
  },
  {
   "cell_type": "markdown",
   "id": "ed596b27-813c-4ea3-ab00-74e747410a0c",
   "metadata": {},
   "source": [
    "&emsp;&emsp;安装Mysql，执行如下命令：\n",
    "```bash\n",
    "    apt-get install mysql-server\n",
    "```"
   ]
  },
  {
   "cell_type": "markdown",
   "id": "b67762de-3331-46ba-ae91-13697515f86b",
   "metadata": {
    "editable": true,
    "slideshow": {
     "slide_type": ""
    },
    "tags": []
   },
   "source": [
    "<div align=center><img src=\"https://muyu001.oss-cn-beijing.aliyuncs.com/img/image-20240604104721648.png\" width=100%></div>"
   ]
  },
  {
   "cell_type": "markdown",
   "id": "c389415f-5e15-4551-ab75-ba2d4975135a",
   "metadata": {},
   "source": [
    "&emsp;&emsp;开启Mysql 服务，执行命令如下：\n",
    "```bash\n",
    "    service mysql start\n",
    "```\n",
    "\n",
    "&emsp;&emsp;并确认是否成功开启mysql,执行命令如下：\n",
    "```bash\n",
    "    ervice mysql status\n",
    "```"
   ]
  },
  {
   "cell_type": "markdown",
   "id": "f7fce52f-30c9-4966-a13e-107044092e56",
   "metadata": {
    "editable": true,
    "slideshow": {
     "slide_type": ""
    },
    "tags": []
   },
   "source": [
    "<div align=center><img src=\"https://muyu001.oss-cn-beijing.aliyuncs.com/img/image-20240604104940068.png\" width=100%></div>"
   ]
  },
  {
   "cell_type": "markdown",
   "id": "db519631-0ed0-444c-bcd6-314c7d38adcc",
   "metadata": {},
   "source": [
    "&emsp;&emsp;确认是否启动成功，在LISTEN状态下，启动成功：\n",
    "```bash\n",
    "    netstat -tap | grep mysql\n",
    "```"
   ]
  },
  {
   "cell_type": "markdown",
   "id": "603281ba-47aa-4b96-a04e-6870d55a889d",
   "metadata": {
    "editable": true,
    "slideshow": {
     "slide_type": ""
    },
    "tags": []
   },
   "source": [
    "<div align=center><img src=\"https://muyu001.oss-cn-beijing.aliyuncs.com/img/image-20240604105250306.png\" width=100%></div>"
   ]
  },
  {
   "cell_type": "markdown",
   "id": "04ffc2b7-72ba-41a4-ab87-b8615708163e",
   "metadata": {},
   "source": [
    "&emsp;&emsp;在最新使用的 MySQL 版本中，默认使用 auth_socket 插件来进行身份验证，这意味着 root 用户通过操作系统的用户身份进行认证，而不是使用密码。这种配置在许多 Linux 系统上是默认的，特别是在安装 MySQL 时不要求设置密码的情况下。如果我们希望使用传统的密码验证方式来登录 MySQL，需要更改 root 用户的认证方式。以下是如何将 root 用户从 auth_socket 插件更改为使用密码认证的步骤："
   ]
  },
  {
   "cell_type": "markdown",
   "id": "e11585f9-e47e-4473-a9d9-f924fc10cdb4",
   "metadata": {},
   "source": [
    "1. **登录 MySQL**:\n",
    "   首先，使用以下命令登录到 MySQL：\n",
    "   ```bash\n",
    "   sudo mysql\n",
    "   ```"
   ]
  },
  {
   "cell_type": "markdown",
   "id": "ec87c3f1-517c-488e-86a4-d9e742377527",
   "metadata": {
    "editable": true,
    "slideshow": {
     "slide_type": ""
    },
    "tags": []
   },
   "source": [
    "<div align=center><img src=\"https://muyu001.oss-cn-beijing.aliyuncs.com/img/image-20240604105909768.png\" width=100%></div>"
   ]
  },
  {
   "cell_type": "markdown",
   "id": "70f8d8ea-bf9f-47e1-8fa7-261cea8bb668",
   "metadata": {},
   "source": [
    "2. **更改认证插件和设置密码**:\n",
    "   在 MySQL 命令行中，使用以下命令来更改 `root` 用户的认证插件并设置一个新密码：\n",
    "   ```sql\n",
    "   ALTER USER 'root'@'localhost' IDENTIFIED WITH mysql_native_password BY '新密码';\n",
    "   FLUSH PRIVILEGES;\n",
    "   ```\n",
    "   把 `'新密码'` 替换为你想要设置的密码。"
   ]
  },
  {
   "cell_type": "markdown",
   "id": "e4ada781-4f9b-495b-a756-6c6238fe4adc",
   "metadata": {
    "editable": true,
    "slideshow": {
     "slide_type": ""
    },
    "tags": []
   },
   "source": [
    "<div align=center><img src=\"https://muyu001.oss-cn-beijing.aliyuncs.com/img/image-20240604110024977.png\" width=100%></div>"
   ]
  },
  {
   "cell_type": "markdown",
   "id": "a630e43f-455a-45ef-adf7-ef61dfd50820",
   "metadata": {},
   "source": [
    "3. **退出并测试登录**:\n",
    "   更改完成后，退出 MySQL：\n",
    "   \n",
    "   ```bash\n",
    "   exit;\n",
    "   ```"
   ]
  },
  {
   "cell_type": "markdown",
   "id": "8a37fa20-9c70-4ef0-a88f-f7e705bbdcec",
   "metadata": {},
   "source": [
    "&emsp;&emsp;然后尝试使用新密码重新登录：\n",
    "\n",
    "```bash\n",
    "   sudo mysql -u root -p\n",
    "```\n",
    "&emsp;&emsp;系统将提示你输入密码，此时应输入你刚才设置的密码。"
   ]
  },
  {
   "cell_type": "markdown",
   "id": "10d73b90-c344-45c5-88ef-26d1ef27f145",
   "metadata": {
    "editable": true,
    "slideshow": {
     "slide_type": ""
    },
    "tags": []
   },
   "source": [
    "<div align=center><img src=\"https://muyu001.oss-cn-beijing.aliyuncs.com/img/image-20240604110332263.png\" width=100%></div>"
   ]
  },
  {
   "cell_type": "markdown",
   "id": "47800881-ae4c-47d1-9e02-330ab4ffd4d3",
   "metadata": {},
   "source": [
    "&emsp;&emsp;MySQL 配置文件中的 bind-address 参数限制了可以接受连接的 IP 地址。需要确认它是否设置为允许从你的客户端 IP 访问。查看 /etc/mysql/mysql.conf.d/mysqld.cnf 文件中的 bind-address："
   ]
  },
  {
   "cell_type": "markdown",
   "id": "b4e7db6d-36eb-4e80-ab91-0079b12e9c6b",
   "metadata": {
    "editable": true,
    "slideshow": {
     "slide_type": ""
    },
    "tags": []
   },
   "source": [
    "<div align=center><img src=\"https://muyu001.oss-cn-beijing.aliyuncs.com/img/image-20240604111001209.png\" width=100%></div>"
   ]
  },
  {
   "cell_type": "markdown",
   "id": "51e643c9-77ed-4c5f-aa4b-0276acf9bb2a",
   "metadata": {},
   "source": [
    "&emsp;&emsp;如果设置为 127.0.0.1（只允许本地连接），需要改为 0.0.0.0（允许任何 IP 连接）或具体的外部 IP 地址，然后重启 MySQL 服务："
   ]
  },
  {
   "cell_type": "markdown",
   "id": "cb8b3ae9-942e-4a59-90a4-6961ec63bcd1",
   "metadata": {
    "editable": true,
    "slideshow": {
     "slide_type": ""
    },
    "tags": []
   },
   "source": [
    "<div align=center><img src=\"https://muyu001.oss-cn-beijing.aliyuncs.com/img/image-20240604111201173.png\" width=100%></div>"
   ]
  },
  {
   "cell_type": "markdown",
   "id": "38bc84fc-101c-45dd-8a22-81f451927e8d",
   "metadata": {},
   "source": [
    "&emsp;&emsp;执行重启命令：\n",
    "```bash\n",
    "    sudo systemctl restart mysql\n",
    "```"
   ]
  },
  {
   "cell_type": "markdown",
   "id": "c108c63e-4c0b-45c9-9f53-5c015a060570",
   "metadata": {},
   "source": [
    "&emsp;&emsp;再次登录Mysql，确保 MySQL 用户的主机设置允许从你的客户端 IP 地址连接。可以在 MySQL 中运行以下 SQL 命令来检查："
   ]
  },
  {
   "cell_type": "markdown",
   "id": "93aa273c-a56b-4a07-9578-8ee56c9ed896",
   "metadata": {
    "editable": true,
    "slideshow": {
     "slide_type": ""
    },
    "tags": []
   },
   "source": [
    "<div align=center><img src=\"https://muyu001.oss-cn-beijing.aliyuncs.com/img/image-20240604111336897.png\" width=100%></div>"
   ]
  },
  {
   "cell_type": "markdown",
   "id": "d4f2bddc-756a-4b4b-ab5b-bc277686f4f1",
   "metadata": {},
   "source": [
    "&emsp;&emsp;接下来，我们需要使用 root 用户或具有相应权限的用户登录到 MySQL。可以通过以下命令登录：\n",
    "```bash\n",
    "    mysql -u root -p\n",
    "```"
   ]
  },
  {
   "cell_type": "markdown",
   "id": "23860aca-4ff4-4218-b0f0-8852eab37d21",
   "metadata": {},
   "source": [
    "&emsp;&emsp;登录后，需要选择 mysql 数据库，因为用户信息存储在这个数据库中：\n",
    "```bash\n",
    "    sudo systemctl restart mysql\n",
    "```"
   ]
  },
  {
   "cell_type": "markdown",
   "id": "32ea5405-17dc-4c09-8f34-e3f31f0ca912",
   "metadata": {},
   "source": [
    "&emsp;&emsp;执行以下 SQL 命令来查看所有用户及其主机：\n",
    "```bash\n",
    "    SELECT user, host FROM user;\n",
    "```"
   ]
  },
  {
   "cell_type": "markdown",
   "id": "c077b4ed-c59a-4f2a-b1cf-0580c21e9f5e",
   "metadata": {
    "editable": true,
    "slideshow": {
     "slide_type": ""
    },
    "tags": []
   },
   "source": [
    "<div align=center><img src=\"https://muyu001.oss-cn-beijing.aliyuncs.com/img/image-20240604113004560.png\" width=100%></div>"
   ]
  },
  {
   "cell_type": "markdown",
   "id": "0979ef2e-c68f-457a-885c-43873f729d35",
   "metadata": {},
   "source": [
    "&emsp;&emsp;决定修改现有用户（如 root 用户），可以更改用户的 host 值，以允许从任意 IP 地址连接。执行如下命令：\n",
    "```bash\n",
    "    UPDATE user SET host = '%' WHERE user = 'root' AND host = 'localhost';\n",
    "    FLUSH PRIVILEGES\n",
    "```"
   ]
  },
  {
   "cell_type": "markdown",
   "id": "4a5caf0d-3495-4666-8314-bd933a637ac5",
   "metadata": {},
   "source": [
    "&emsp;&emsp;这里将 root 用户的 host 从 localhost 改为 %，表示从任何 IP 地址都允许连接。"
   ]
  },
  {
   "cell_type": "markdown",
   "id": "fe1a2736-9ce1-489c-bc96-b2c4e9951432",
   "metadata": {
    "editable": true,
    "slideshow": {
     "slide_type": ""
    },
    "tags": []
   },
   "source": [
    "<div align=center><img src=\"https://muyu001.oss-cn-beijing.aliyuncs.com/img/image-20240604113057311.png\" width=100%></div>"
   ]
  },
  {
   "cell_type": "markdown",
   "id": "53cbe9af-650c-4214-a2b3-21c2454b93a0",
   "metadata": {},
   "source": [
    "&emsp;&emsp;Windows下载Navicat，地址：https://www.navicat.com/en/download/direct-download?product=navicat170_premium_en_x64.exe&location=1"
   ]
  },
  {
   "cell_type": "markdown",
   "id": "718b626d-0459-4632-9dfd-d6503679baa8",
   "metadata": {
    "editable": true,
    "slideshow": {
     "slide_type": ""
    },
    "tags": []
   },
   "source": [
    "<div align=center><img src=\"https://muyu001.oss-cn-beijing.aliyuncs.com/img/image-20240604110608705.png\" width=100%></div>"
   ]
  },
  {
   "cell_type": "markdown",
   "id": "e1aefa90-9814-4a1b-b132-b2bb5e726d01",
   "metadata": {},
   "source": [
    "&emsp;&emsp;选择Connection："
   ]
  },
  {
   "cell_type": "markdown",
   "id": "74874d37-c829-440c-84f9-529d9b3fc5a4",
   "metadata": {
    "editable": true,
    "slideshow": {
     "slide_type": ""
    },
    "tags": []
   },
   "source": [
    "<div align=center><img src=\"https://muyu001.oss-cn-beijing.aliyuncs.com/img/image-20240604110722646.png\" width=100%></div>"
   ]
  },
  {
   "cell_type": "markdown",
   "id": "781e0447-505b-4989-9f2f-a308696eabb4",
   "metadata": {},
   "source": [
    "&emsp;&emsp;新建一个Mysql连接："
   ]
  },
  {
   "cell_type": "markdown",
   "id": "0cac5bfd-520e-43bc-b9da-a4ca5d2b4541",
   "metadata": {
    "editable": true,
    "slideshow": {
     "slide_type": ""
    },
    "tags": []
   },
   "source": [
    "<div align=center><img src=\"https://muyu001.oss-cn-beijing.aliyuncs.com/img/image-20240604110741430.png\" width=100%></div>"
   ]
  },
  {
   "cell_type": "markdown",
   "id": "4ea91d09-93bc-4213-83b0-48d2800b916c",
   "metadata": {},
   "source": [
    "&emsp;&emsp;输入远程服务器的IP，Mysql的用户名和密码，执行连通性测试。"
   ]
  },
  {
   "cell_type": "markdown",
   "id": "db5ce016-bc3f-48f3-81d3-cad6f4cd29f1",
   "metadata": {
    "editable": true,
    "slideshow": {
     "slide_type": ""
    },
    "tags": []
   },
   "source": [
    "<div align=center><img src=\"https://muyu001.oss-cn-beijing.aliyuncs.com/img/image-20240604113157216.png\" width=100%></div>"
   ]
  },
  {
   "cell_type": "markdown",
   "id": "09f3d953-c8f6-4cfd-b7c3-625dec1693a3",
   "metadata": {},
   "source": [
    "&emsp;&emsp;如何能够正常连接，会提示`Connection Successful`字样。"
   ]
  },
  {
   "cell_type": "markdown",
   "id": "51454aad-a743-449f-b562-b3edd086ec2c",
   "metadata": {
    "editable": true,
    "slideshow": {
     "slide_type": ""
    },
    "tags": []
   },
   "source": [
    "<div align=center><img src=\"https://muyu001.oss-cn-beijing.aliyuncs.com/img/image-20240604113216256.png\" width=100%></div>"
   ]
  },
  {
   "cell_type": "markdown",
   "id": "5a10c4b0-9fbd-491e-b806-0cef9268ddfc",
   "metadata": {},
   "source": [
    "&emsp;&emsp;接下来就可以正常在Navinate工具中进行Mysql操作了。"
   ]
  },
  {
   "cell_type": "markdown",
   "id": "8a1e225f-c6c5-4f19-8ab3-66460000ad4c",
   "metadata": {
    "editable": true,
    "slideshow": {
     "slide_type": ""
    },
    "tags": []
   },
   "source": [
    "<div align=center><img src=\"https://muyu001.oss-cn-beijing.aliyuncs.com/img/image-20240604113230687.png\" width=100%></div>"
   ]
  }
 ],
 "metadata": {
  "kernelspec": {
   "display_name": "Python 3 (ipykernel)",
   "language": "python",
   "name": "python3"
  },
  "language_info": {
   "codemirror_mode": {
    "name": "ipython",
    "version": 3
   },
   "file_extension": ".py",
   "mimetype": "text/x-python",
   "name": "python",
   "nbconvert_exporter": "python",
   "pygments_lexer": "ipython3",
   "version": "3.11.7"
  }
 },
 "nbformat": 4,
 "nbformat_minor": 5
}
