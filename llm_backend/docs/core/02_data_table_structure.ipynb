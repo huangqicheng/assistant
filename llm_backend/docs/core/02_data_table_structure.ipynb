{
 "cells": [
  {
   "cell_type": "markdown",
   "metadata": {},
   "source": [
    "# 数据库表结构设计\n",
    "\n",
    "<style>\n",
    ".center \n",
    "{\n",
    "  width: auto;\n",
    "  display: table;\n",
    "  margin-left: auto;\n",
    "  margin-right: auto;\n",
    "}\n",
    "</style>\n",
    "\n",
    "<p align=\"center\"><font face=\"黑体\" size=4>用户表</font></p>\n",
    "<div class=\"center\">\n",
    "\n",
    "\n",
    "| 字段名 | 类型 | 约束 | 说明 |\n",
    "|--------|------|------|------|\n",
    "| id | Integer | PRIMARY KEY | 用户唯一标识 |\n",
    "| username | String(50) | UNIQUE, NOT NULL | 用户名 |\n",
    "| email | String(100) | UNIQUE, NOT NULL | 电子邮件 |\n",
    "| password_hash | String(255) | NOT NULL | 密码哈希值 |\n",
    "| created_at | DateTime | DEFAULT NOW() | 创建时间 |\n",
    "| updated_at | DateTime | DEFAULT NOW() | 更新时间 |\n",
    "| last_login | DateTime | NULL | 最后登录时间 |\n",
    "| status | String(20) | DEFAULT 'active' | 用户状态 |\n",
    "\n",
    "## 2. 对话表 (Conversations)\n",
    "\n",
    "| 字段名 | 类型 | 约束 | 说明 |\n",
    "|--------|------|------|------|\n",
    "| id | Integer | PRIMARY KEY | 对话唯一标识 |\n",
    "| user_id | Integer | FOREIGN KEY | 关联用户ID |\n",
    "| created_at | DateTime | DEFAULT NOW() | 创建时间 |\n",
    "| updated_at | DateTime | DEFAULT NOW() | 更新时间 |\n",
    "| status | String(20) | DEFAULT 'ongoing' | 对话状态 |\n",
    "| dialogue_type | Enum | NOT NULL | 对话类型 |\n",
    "\n",
    "\n",
    "## 3. 消息表 (Messages)\n",
    "\n",
    "| 字段名 | 类型 | 约束 | 说明 |\n",
    "|--------|------|------|------|\n",
    "| id | Integer | PRIMARY KEY | 消息唯一标识 |\n",
    "| conversation_id | Integer | FOREIGN KEY | 关联对话ID |\n",
    "| sender | String(50) | NOT NULL | 发送者 |\n",
    "| content | Text | NOT NULL | 消息内容 |\n",
    "| created_at | DateTime | DEFAULT NOW() | 创建时间 |\n",
    "| message_type | String(20) | DEFAULT 'text' | 消息类型 |\n",
    "\n",
    "</div>"
   ]
  }
 ],
 "metadata": {
  "language_info": {
   "name": "python"
  }
 },
 "nbformat": 4,
 "nbformat_minor": 2
}
